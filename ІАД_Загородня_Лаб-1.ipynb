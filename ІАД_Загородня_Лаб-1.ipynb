{
 "cells": [
  {
   "cell_type": "markdown",
   "metadata": {},
   "source": [
    "<h1><center>Лабораторна робота 1.</center></h1>\n",
    "<h2><center>Аналіз доходу населення за набором даних Adult Data Set</center></h2>"
   ]
  },
  {
   "cell_type": "markdown",
   "metadata": {},
   "source": [
    "**Виконав:** Загородня А.В.\n",
    "\n",
    "**Варіант:** № 11"
   ]
  },
  {
   "cell_type": "markdown",
   "metadata": {},
   "source": [
    "<a class=\"anchor\" id=\"lab-1\"></a>"
   ]
  },
  {
   "cell_type": "markdown",
   "metadata": {},
   "source": [
    "### <span style=\"color:red; font-size:1.5em;\">Завдання 1</span>\n",
    "\n",
    "\n",
    "**Варіант 11:**\n",
    "Скільки осіб мають значення *education-num* більш як 10?\n"
   ]
  },
  {
   "cell_type": "code",
   "execution_count": 1,
   "metadata": {},
   "outputs": [
    {
     "name": "stdout",
     "output_type": "stream",
     "text": [
      "Завдання 1\n",
      "Кількість осіб з education-num більше 10: 10516\n"
     ]
    }
   ],
   "source": [
    "import pandas as pd\n",
    "adult_data_url = 'https://raw.githubusercontent.com/radiukpavlo/intelligent-data-analysis/main/02_assignments/ida_lab-01_adult_pandas/adult.data.csv'\n",
    "\n",
    "data = pd.read_csv(adult_data_url)\n",
    "data.head()\n",
    "\n",
    "print(\"Завдання 1\")\n",
    "print(f\"Кількість осіб з education-num більше 10: {(data['education-num'] > 10).sum()}\")"
   ]
  },
  {
   "cell_type": "markdown",
   "metadata": {},
   "source": [
    "Основне завдання полягає в тому, щоб порахувати кількість людей, у яких рівень освіти, представлений у стовпці education-num, перевищує 10. Для цього я використовувала умовне порівняння та функцію .sum(), яка підсумовує кількість рядків, що відповідають цій умові. Результат виведено у вигляді повідомлення."
   ]
  },
  {
   "cell_type": "markdown",
   "metadata": {},
   "source": [
    "### <span style=\"color:red; font-size:1.5em;\">Завдання 2</span>\n",
    "\n",
    "**Варіант 11:**\n",
    "Відфільтруйте осіб, які працюють менше ніж 30 годин на тиждень (*hours-per-week*) і відобразіть середнє значення та стандартне відхилення їхнього *age*."
   ]
  },
  {
   "cell_type": "code",
   "execution_count": 2,
   "metadata": {},
   "outputs": [
    {
     "name": "stdout",
     "output_type": "stream",
     "text": [
      "\n",
      "Завдання 2\n",
      "Середнє значення віку: 36.542724609375\n",
      "Стандартне відхилення віку: 19.760560139924056\n"
     ]
    }
   ],
   "source": [
    "mean_age = data.loc[data['hours-per-week'] < 30, 'age'].mean()\n",
    "std_age = data.loc[data['hours-per-week'] < 30, 'age'].std()\n",
    "print(\"\\nЗавдання 2\")\n",
    "print(f\"Середнє значення віку: {mean_age}\")\n",
    "print(f\"Стандартне відхилення віку: {std_age}\")"
   ]
  },
  {
   "cell_type": "markdown",
   "metadata": {},
   "source": [
    "У цьому коді проводиться аналіз вікових характеристик людей, які працюють менше ніж 30 годин на тиждень. Спочатку відбувається фільтрація даних, з усього набору вибираються лише ті записи, де значення у стовпці hours-per-week менше 30. Для цієї групи обчислюється середній вік за допомогою функції .mean(), яка знаходить середнє арифметичне вікових даних у вибраних рядках. Крім того, для цієї ж групи обчислюється стандартне відхилення віку за допомогою методу .std(), що дозволяє оцінити, наскільки варіативним є вік серед людей, які працюють неповний робочий тиждень."
   ]
  },
  {
   "cell_type": "markdown",
   "metadata": {},
   "source": [
    "### <span style=\"color:red; font-size:1.5em;\">Завдання 3</span>\n",
    "\n",
    "**Варіант 11:**\n",
    "Який мінімальний *age* людей, які розлучені та заробляють понад 50K? Відфільтруйте за *marital-status* і використайте `min()`.\n"
   ]
  },
  {
   "cell_type": "code",
   "execution_count": 3,
   "metadata": {},
   "outputs": [
    {
     "name": "stdout",
     "output_type": "stream",
     "text": [
      "\n",
      "Завдання 3\n",
      "Мінімальний вік розлучених, які заробляють понад 50K: 24\n"
     ]
    }
   ],
   "source": [
    "min_age_divorced_high = data.loc[(data['marital-status'] == 'Divorced') & (data['salary'] == '>50K'), 'age'].min()\n",
    "print(\"\\nЗавдання 3\")\n",
    "print(f\"Мінімальний вік розлучених, які заробляють понад 50K: {min_age_divorced_high}\")"
   ]
  },
  {
   "cell_type": "markdown",
   "metadata": {},
   "source": [
    "У цьому коді виконується аналіз мінімального віку розлучених осіб, які мають дохід понад 50 тисяч доларів на рік. Для цього використовується функція loc для фільтрації даних, тобто вибираються лише ті записи, де статус шлюбного стану вказаний як Divorced, а рівень заробітку — понад 50K. Після цього за допомогою методу .min() визначається найменший вік серед цієї групи."
   ]
  },
  {
   "cell_type": "markdown",
   "metadata": {},
   "source": [
    "### <span style=\"color:red; font-size:1.5em;\">Завдання 4</span>\n",
    "\n",
    "**Варіант 11:**\n",
    "Обчисліть моду (найчастіше значення) класу зайнятості для осіб зі ступенем *Masters*, які заробляють менше або рівно 50K."
   ]
  },
  {
   "cell_type": "code",
   "execution_count": 4,
   "metadata": {},
   "outputs": [
    {
     "name": "stdout",
     "output_type": "stream",
     "text": [
      "\n",
      "Завдання 4\n",
      "Мода класу зайнятості для осіб зі ступенем Masters та зарплатою <=50K: Prof-specialty\n"
     ]
    }
   ],
   "source": [
    "mode_occupation = data.loc[(data['education'] == 'Masters') & (data['salary'] == '<=50K'), 'occupation'].mode()[0]\n",
    "print(\"\\nЗавдання 4\")\n",
    "print(f\"Мода класу зайнятості для осіб зі ступенем Masters та зарплатою <=50K: {mode_occupation}\")"
   ]
  },
  {
   "cell_type": "markdown",
   "metadata": {},
   "source": [
    "У цьому коді виконується аналіз, щоб знайти моду (найбільш поширене значення) професії для людей зі ступенем Masters і зарплатою <=50K. Спершу дані фільтруються за допомогою методу loc, де обираються тільки ті записи, де рівень освіти відповідає Masters, а заробіток — менше або дорівнює 50 тисячам доларів на рік. Далі за допомогою методу .mode() визначається найчастіша професія (мода) серед цієї групи. Використовується індекс [0], щоб вивести саме перше значення моди, якщо є кілька значень."
   ]
  },
  {
   "cell_type": "markdown",
   "metadata": {},
   "source": [
    "### <span style=\"color:red; font-size:1.5em;\">Завдання 5</span>\n",
    "\n",
    "**Варіант 11:**\n",
    "Для осіб, які заробляють понад 50K, знайдіть найпоширеніший рівень освіти (*education*) й обчисліть середню кількість відпрацьованих годин для цієї групи. Використайте `groupby()` і `mean()`.\n"
   ]
  },
  {
   "cell_type": "code",
   "execution_count": 5,
   "metadata": {
    "tags": []
   },
   "outputs": [
    {
     "name": "stdout",
     "output_type": "stream",
     "text": [
      "\n",
      "Завдання 5\n",
      "Найпоширеніший рівень освіти серед осіб, які заробляють понад 50K: Prof-school\n",
      "Середня кількість відпрацьованих годин для цієї групи: 49.09219858156028\n"
     ]
    }
   ],
   "source": [
    "high_earners = data[data['salary'] == '>50K']\n",
    "grouped = high_earners.groupby('education')['hours-per-week'].mean()\n",
    "\n",
    "most_common_education = grouped.idxmax()\n",
    "mean_hours_worked = grouped.max()\n",
    "\n",
    "print(\"\\nЗавдання 5\")\n",
    "print(f\"Найпоширеніший рівень освіти серед осіб, які заробляють понад 50K: {most_common_education}\")\n",
    "print(f\"Середня кількість відпрацьованих годин для цієї групи: {mean_hours_worked}\")"
   ]
  },
  {
   "cell_type": "markdown",
   "metadata": {},
   "source": [
    "Різниця між `groupby()` та `loc[]` полягає у тому, що функція `groupby()` використовується для групування даних за певними ознаками. Після групування можна застосовувати різні агрегаційні функції (наприклад, `sum()`, `mean()`, `count()`) для обчислення показників для кожної групи. Це дозволяє легко узагальнювати або підсумовувати дані за певними категоріями чи ключами. А функція `loc[]` використовується для вибірки рядків або стовпців за мітками або умовами. Вона дає змогу вибирати певні рядки на основі індексів або умов, а також доступ до окремих елементів або підмножин даних. `loc[]` підтримує складні логічні фільтри та надає можливість витягувати або змінювати конкретні фрагменти даних.\n",
    "\n",
    "Таким чином:\n",
    "\n",
    "- `groupby()` працює для агрегації даних після групування.\n",
    "- `loc[]` використовується для фільтрації або доступу до даних на основі індексів чи умов."
   ]
  }
 ],
 "metadata": {
  "anaconda-cloud": {},
  "kernelspec": {
   "display_name": "Python 3 (ipykernel)",
   "language": "python",
   "name": "python3"
  },
  "language_info": {
   "codemirror_mode": {
    "name": "ipython",
    "version": 3
   },
   "file_extension": ".py",
   "mimetype": "text/x-python",
   "name": "python",
   "nbconvert_exporter": "python",
   "pygments_lexer": "ipython3",
   "version": "3.11.6"
  }
 },
 "nbformat": 4,
 "nbformat_minor": 4
}
